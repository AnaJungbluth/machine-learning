{
  "nbformat": 4,
  "nbformat_minor": 0,
  "metadata": {
    "colab": {
      "provenance": []
    },
    "kernelspec": {
      "name": "python3",
      "display_name": "Python 3"
    },
    "language_info": {
      "name": "python"
    }
  },
  "cells": [
    {
      "cell_type": "markdown",
      "source": [
        "**Trabalho SIA 2º Bimestre**"
      ],
      "metadata": {
        "id": "drkw3_fuzwO0"
      }
    },
    {
      "cell_type": "markdown",
      "source": [
        "Ana Carolina Jungbluth e Isabella Rodrigues Gon"
      ],
      "metadata": {
        "id": "9wPcIYI8zpDp"
      }
    },
    {
      "cell_type": "markdown",
      "source": [
        "**Importando o DataSet**"
      ],
      "metadata": {
        "id": "M9DIfTChau71"
      }
    },
    {
      "cell_type": "code",
      "execution_count": null,
      "metadata": {
        "id": "ZlA3P8MKYkq1"
      },
      "outputs": [],
      "source": [
        "import pandas as pd\n",
        "dados = pd.read_csv('/content/Friday-WorkingHours-Afternoon-DDos.pcap_ISCX.csv')"
      ]
    },
    {
      "cell_type": "code",
      "source": [
        "dados"
      ],
      "metadata": {
        "id": "0YoP_93kV3kG"
      },
      "execution_count": null,
      "outputs": []
    },
    {
      "cell_type": "markdown",
      "source": [
        "**Analisando o DataSet**"
      ],
      "metadata": {
        "id": "3tkUZV4-a5Tg"
      }
    },
    {
      "cell_type": "code",
      "source": [
        "dados.info()"
      ],
      "metadata": {
        "id": "y5wjeV9qa8Sk"
      },
      "execution_count": null,
      "outputs": []
    },
    {
      "cell_type": "code",
      "source": [
        "dados.describe().T"
      ],
      "metadata": {
        "id": "mF4F99kYUUsF"
      },
      "execution_count": null,
      "outputs": []
    },
    {
      "cell_type": "code",
      "source": [
        "dados.head(5)"
      ],
      "metadata": {
        "id": "nucTR80BbBDM"
      },
      "execution_count": null,
      "outputs": []
    },
    {
      "cell_type": "markdown",
      "source": [
        "**Removendo valores nulos**"
      ],
      "metadata": {
        "id": "lICUNK9WbvWX"
      }
    },
    {
      "cell_type": "code",
      "source": [
        "dados = dados.dropna(how='any')"
      ],
      "metadata": {
        "id": "K_9CK5Bkby-q"
      },
      "execution_count": null,
      "outputs": []
    },
    {
      "cell_type": "code",
      "source": [
        "dados.head(10)"
      ],
      "metadata": {
        "id": "oDTHJAtvb9dJ"
      },
      "execution_count": null,
      "outputs": []
    },
    {
      "cell_type": "markdown",
      "source": [
        "**Transformando a Classe para Binário**"
      ],
      "metadata": {
        "id": "da7YMtnGczeI"
      }
    },
    {
      "cell_type": "code",
      "source": [
        "types_of_label = dados[' Label'].unique()"
      ],
      "metadata": {
        "id": "ZOLzndjic3mc"
      },
      "execution_count": null,
      "outputs": []
    },
    {
      "cell_type": "code",
      "source": [
        "types_of_label"
      ],
      "metadata": {
        "id": "CpuAb63edkN4",
        "colab": {
          "base_uri": "https://localhost:8080/"
        },
        "outputId": "6da6a063-9d9b-49dc-a1c5-3b73f0ea0598"
      },
      "execution_count": null,
      "outputs": [
        {
          "output_type": "execute_result",
          "data": {
            "text/plain": [
              "array(['BENIGN', 'DDoS'], dtype=object)"
            ]
          },
          "metadata": {},
          "execution_count": 42
        }
      ]
    },
    {
      "cell_type": "code",
      "source": [
        "replace_str = {}\n",
        "for i,value in enumerate(types_of_label, start=0):\n",
        "  replace_str[value]=i\n",
        "dados[' Label'] = dados[' Label'].map(replace_str)\n",
        "dados"
      ],
      "metadata": {
        "id": "33W07YSveLmP"
      },
      "execution_count": null,
      "outputs": []
    },
    {
      "cell_type": "code",
      "source": [
        "dados.head(5)"
      ],
      "metadata": {
        "id": "jRIxB_N4embo"
      },
      "execution_count": null,
      "outputs": []
    },
    {
      "cell_type": "code",
      "source": [
        "dados[' Label'].unique()"
      ],
      "metadata": {
        "id": "sePgYwImeo2K",
        "colab": {
          "base_uri": "https://localhost:8080/"
        },
        "outputId": "e943e438-a500-4843-f540-c1674a32cf5a"
      },
      "execution_count": null,
      "outputs": [
        {
          "output_type": "execute_result",
          "data": {
            "text/plain": [
              "array([0, 1])"
            ]
          },
          "metadata": {},
          "execution_count": 44
        }
      ]
    },
    {
      "cell_type": "markdown",
      "source": [
        "**Balanceamento**"
      ],
      "metadata": {
        "id": "vvM_kpD_gccU"
      }
    },
    {
      "cell_type": "code",
      "source": [
        "def count_class(df,types_label):\n",
        "  types_label = df[' Label'].unique()\n",
        "  for atual_class in types_label:\n",
        "    _class = df[df[' Label']==atual_class]\n",
        "    print(\"Tamanho da classe {}:  {}\".format(atual_class,len(_class)))\n",
        "count_class(dados,types_of_label)"
      ],
      "metadata": {
        "id": "V4Eynpo6gfHf",
        "colab": {
          "base_uri": "https://localhost:8080/"
        },
        "outputId": "18eaef22-c9f2-4dee-d703-cc11d4195b10"
      },
      "execution_count": null,
      "outputs": [
        {
          "output_type": "stream",
          "name": "stdout",
          "text": [
            "Tamanho da classe 0:  97714\n",
            "Tamanho da classe 1:  128027\n"
          ]
        }
      ]
    },
    {
      "cell_type": "code",
      "source": [
        "dados.columns"
      ],
      "metadata": {
        "id": "Qyc93zsxg8De"
      },
      "execution_count": null,
      "outputs": []
    },
    {
      "cell_type": "markdown",
      "source": [
        "**Transformando o IP em numérico**\n",
        "\n"
      ],
      "metadata": {
        "id": "Q8-mCKgGp3Nx"
      }
    },
    {
      "cell_type": "code",
      "source": [
        "import ipaddress\n",
        "# Aplicar a conversão para formato numérico para a coluna 'Source IP' e 'Destination IP'\n",
        "dados['Source IP Numerico'] = dados[' Source IP'].apply(lambda x: int(ipaddress.IPv4Address(x)) if isinstance(x, str) else x)\n",
        "dados['Destination IP Numerico'] = dados[' Destination IP'].apply(lambda x: int(ipaddress.IPv4Address(x)) if isinstance(x, str) else x)\n"
      ],
      "metadata": {
        "id": "CV9ggGx3wDdR"
      },
      "execution_count": null,
      "outputs": []
    },
    {
      "cell_type": "code",
      "source": [
        "dados.head()"
      ],
      "metadata": {
        "id": "mIjq7JoFzwVm"
      },
      "execution_count": null,
      "outputs": []
    },
    {
      "cell_type": "code",
      "source": [
        "dados.columns"
      ],
      "metadata": {
        "id": "1IRRpllr6LgA"
      },
      "execution_count": null,
      "outputs": []
    },
    {
      "cell_type": "code",
      "source": [
        "dados = dados.drop(' Destination IP', axis=1)"
      ],
      "metadata": {
        "id": "QCz6VqDg6sb3"
      },
      "execution_count": null,
      "outputs": []
    },
    {
      "cell_type": "code",
      "source": [
        "dados = dados.drop('Flow ID', axis=1)"
      ],
      "metadata": {
        "id": "0izFGPieXdiA"
      },
      "execution_count": null,
      "outputs": []
    },
    {
      "cell_type": "code",
      "source": [
        "dados = dados.drop(' Source IP', axis=1)"
      ],
      "metadata": {
        "id": "3-r3ZdLiXnVv"
      },
      "execution_count": null,
      "outputs": []
    },
    {
      "cell_type": "code",
      "source": [
        "dados.head()"
      ],
      "metadata": {
        "id": "FKWUaGoC6z-p"
      },
      "execution_count": null,
      "outputs": []
    },
    {
      "cell_type": "markdown",
      "source": [
        "**Seleção de atributos por correlação**"
      ],
      "metadata": {
        "id": "RInKx_JO7XXB"
      }
    },
    {
      "cell_type": "code",
      "source": [
        "correlation = dados.corr()\n",
        "low_correlation_coluns = correlation.loc[(correlation[' Label'] < .3) & (correlation[' Label'] > -.3)].index\n",
        "len(low_correlation_coluns)"
      ],
      "metadata": {
        "id": "qJv6NCae62Gw",
        "colab": {
          "base_uri": "https://localhost:8080/"
        },
        "outputId": "c5083e84-ab86-441b-e8ca-88186f1e7647"
      },
      "execution_count": null,
      "outputs": [
        {
          "output_type": "stream",
          "name": "stderr",
          "text": [
            "<ipython-input-50-0db1f9a04da6>:1: FutureWarning: The default value of numeric_only in DataFrame.corr is deprecated. In a future version, it will default to False. Select only valid columns or specify the value of numeric_only to silence this warning.\n",
            "  correlation = dados.corr()\n"
          ]
        },
        {
          "output_type": "execute_result",
          "data": {
            "text/plain": [
              "46"
            ]
          },
          "metadata": {},
          "execution_count": 50
        }
      ]
    },
    {
      "cell_type": "code",
      "source": [
        "dados_sem_low_correlation = dados.drop(columns=low_correlation_coluns)"
      ],
      "metadata": {
        "id": "J8hInM9R7EFC"
      },
      "execution_count": null,
      "outputs": []
    },
    {
      "cell_type": "code",
      "source": [
        "dados_sem_low_correlation.head()"
      ],
      "metadata": {
        "id": "p-Jzbtpf7OfC"
      },
      "execution_count": null,
      "outputs": []
    },
    {
      "cell_type": "code",
      "source": [
        "dados2 = dados_sem_low_correlation"
      ],
      "metadata": {
        "id": "2P46vPGe71k0"
      },
      "execution_count": null,
      "outputs": []
    },
    {
      "cell_type": "code",
      "source": [
        "dados2.head()"
      ],
      "metadata": {
        "id": "AHwQAC2e8sj3"
      },
      "execution_count": null,
      "outputs": []
    },
    {
      "cell_type": "markdown",
      "source": [
        "**Transformando o atributo 'Timestamp' em 'Date' e 'Time'**\n",
        "\n",
        "Como o dataset só está situado em um dia 07/07/2017, então o novo atributo 'Date' não se torna relevante, sendo assim o único atributo que mantivemos em relação a data e hora foi o 'Time', excluindo tanto o 'Timestamp', quanto o 'Date'."
      ],
      "metadata": {
        "id": "xO0lT6l4DdRl"
      }
    },
    {
      "cell_type": "code",
      "source": [
        "dados2['Date'] = pd.to_datetime(dados[' Timestamp']).dt.date\n",
        "dados2['Time'] = pd.to_datetime(dados[' Timestamp']).dt.time\n"
      ],
      "metadata": {
        "id": "WnVZvElM_LQC"
      },
      "execution_count": null,
      "outputs": []
    },
    {
      "cell_type": "code",
      "source": [
        "dados2.head()"
      ],
      "metadata": {
        "id": "SC4r3fE9_kyn"
      },
      "execution_count": null,
      "outputs": []
    },
    {
      "cell_type": "code",
      "source": [
        "dados2 = dados2.drop(' Timestamp', axis=1)"
      ],
      "metadata": {
        "id": "VgIt1H74_qql"
      },
      "execution_count": null,
      "outputs": []
    },
    {
      "cell_type": "code",
      "source": [
        "dados2 = dados2.drop('Date', axis=1)"
      ],
      "metadata": {
        "id": "EWQUt7C1ABma"
      },
      "execution_count": null,
      "outputs": []
    },
    {
      "cell_type": "code",
      "source": [
        "dados2.head()"
      ],
      "metadata": {
        "id": "OxCDQgW9AGUG"
      },
      "execution_count": null,
      "outputs": []
    },
    {
      "cell_type": "code",
      "source": [
        "def time_to_seconds(time_obj):\n",
        "    total_seconds = time_obj.hour * 3600 + time_obj.minute * 60 + time_obj.second\n",
        "    return total_seconds\n",
        "\n",
        "dados2['Time_Numeric'] = dados2['Time'].apply(time_to_seconds)\n"
      ],
      "metadata": {
        "id": "_KN_kaSTAIgv"
      },
      "execution_count": null,
      "outputs": []
    },
    {
      "cell_type": "code",
      "source": [
        "dados2.head()"
      ],
      "metadata": {
        "id": "ITyE1wqKE0qd"
      },
      "execution_count": null,
      "outputs": []
    },
    {
      "cell_type": "code",
      "source": [
        "dados2 = dados2.drop('Time', axis=1)"
      ],
      "metadata": {
        "id": "Ua9sJj-dF7J6"
      },
      "execution_count": null,
      "outputs": []
    },
    {
      "cell_type": "code",
      "source": [
        "dados2.head()"
      ],
      "metadata": {
        "id": "bwQc2n8bGUpd"
      },
      "execution_count": null,
      "outputs": []
    },
    {
      "cell_type": "markdown",
      "source": [
        "**Remoção de outliers utilizando IsolationForest**"
      ],
      "metadata": {
        "id": "t1FwbVDPL7q8"
      }
    },
    {
      "cell_type": "code",
      "source": [
        "from sklearn.ensemble import IsolationForest\n",
        "\n",
        "model = IsolationForest()\n",
        "model.fit(dados2)\n",
        "outliers = model.predict(dados2)\n",
        "dados_sem_outliers = dados2[outliers == 1]\n"
      ],
      "metadata": {
        "id": "CR3S6jaTGWg1"
      },
      "execution_count": null,
      "outputs": []
    },
    {
      "cell_type": "code",
      "source": [
        "dados2.head()"
      ],
      "metadata": {
        "id": "hTDCgno8GlYr"
      },
      "execution_count": null,
      "outputs": []
    },
    {
      "cell_type": "code",
      "source": [
        "dados_sem_outliers"
      ],
      "metadata": {
        "id": "c4MMgm7JHoav"
      },
      "execution_count": null,
      "outputs": []
    },
    {
      "cell_type": "code",
      "source": [
        "dados3 = dados_sem_outliers"
      ],
      "metadata": {
        "id": "chnxK3O9MdbD"
      },
      "execution_count": null,
      "outputs": []
    },
    {
      "cell_type": "code",
      "source": [
        "dados3"
      ],
      "metadata": {
        "id": "dDSdeQW1YdNd"
      },
      "execution_count": null,
      "outputs": []
    },
    {
      "cell_type": "markdown",
      "source": [
        "**Variáveis de treinamento e teste**"
      ],
      "metadata": {
        "id": "T6u3SF0qZZxC"
      }
    },
    {
      "cell_type": "code",
      "source": [
        "from sklearn.model_selection import train_test_split\n",
        "from sklearn.metrics import accuracy_score, classification_report, confusion_matrix\n",
        "\n",
        "x = dados3.drop([' Label'], axis=1)\n",
        "y = dados3[' Label']\n",
        "\n",
        "x_treinamento, x_teste, y_treinamento, y_teste = train_test_split(x, y, random_state=10, test_size=0.3)"
      ],
      "metadata": {
        "id": "XNjoSyH5Zhqi"
      },
      "execution_count": null,
      "outputs": []
    },
    {
      "cell_type": "code",
      "source": [
        "x"
      ],
      "metadata": {
        "id": "1T2u1iiebYgH"
      },
      "execution_count": null,
      "outputs": []
    },
    {
      "cell_type": "code",
      "source": [
        "y"
      ],
      "metadata": {
        "id": "anFtxC0zbfdx"
      },
      "execution_count": null,
      "outputs": []
    },
    {
      "cell_type": "code",
      "source": [
        "x_treinamento.shape, x_teste.shape, y_treinamento.shape, y_teste.shape"
      ],
      "metadata": {
        "id": "u8B3ShURbqYp",
        "colab": {
          "base_uri": "https://localhost:8080/"
        },
        "outputId": "d12a3f1c-675d-4733-8cdd-723b09c0baa9"
      },
      "execution_count": null,
      "outputs": [
        {
          "output_type": "execute_result",
          "data": {
            "text/plain": [
              "((127444, 37), (54620, 37), (127444,), (54620,))"
            ]
          },
          "metadata": {},
          "execution_count": 62
        }
      ]
    },
    {
      "cell_type": "markdown",
      "source": [
        "**Tabela de informações**"
      ],
      "metadata": {
        "id": "ArUAFEsegQT6"
      }
    },
    {
      "cell_type": "code",
      "source": [
        "def train_model(model, X_treinamento, y_treinamento):\n",
        "    treinamento_model = model.fit(X_treinamento, y_treinamento)\n",
        "    return treinamento_model"
      ],
      "metadata": {
        "id": "0uGzrwWlgVg0"
      },
      "execution_count": null,
      "outputs": []
    },
    {
      "cell_type": "code",
      "source": [
        "def predict_with_model(treinamento_model, x_teste):\n",
        "    y_pred = treinamento_model.predict(x_teste)\n",
        "    return y_pred"
      ],
      "metadata": {
        "id": "csr5UCuwgzRN"
      },
      "execution_count": null,
      "outputs": []
    },
    {
      "cell_type": "code",
      "source": [
        "def execute_test(model, X_treinamento = x_treinamento, y_treinamento= y_treinamento, X_teste= x_teste):\n",
        "    treinamento_model = train_model(model, X_treinamento, y_treinamento)\n",
        "    y_pred = predict_with_model(treinamento_model, X_teste)\n",
        "    return y_pred"
      ],
      "metadata": {
        "id": "DzJRMsDrg-R4"
      },
      "execution_count": null,
      "outputs": []
    },
    {
      "cell_type": "code",
      "source": [
        "import seaborn as sns\n",
        "import matplotlib.pyplot as plt"
      ],
      "metadata": {
        "id": "oK4gekVEh7C6"
      },
      "execution_count": null,
      "outputs": []
    },
    {
      "cell_type": "code",
      "source": [
        "from sklearn.metrics import accuracy_score, classification_report, confusion_matrix\n",
        "\n",
        "def show_test(y_pred, y_teste=y_teste):\n",
        "    accuracy = accuracy_score(y_teste, y_pred)\n",
        "    print(\"Acurácia:\", accuracy*100,\"%\")\n",
        "\n",
        "    report = classification_report(y_teste, y_pred, output_dict=True)\n",
        "    print(\"\\n\\t     Relatório de Classificação\")\n",
        "    print(\"-----------------------------------------------------\")\n",
        "    print(f\"   {'Classe':<10}{'Precisão':<10}{'Recall':<10}{'F1-Score':<10}{'Suporte':<10}\")\n",
        "    print(\"-----------------------------------------------------\")\n",
        "    for cls, metrics in report.items():\n",
        "        if cls.isdigit():\n",
        "            print(f\"    {cls:<10}{metrics['precision']:<10.2f}{metrics['recall']:<10.2f}{metrics['f1-score']:<10.2f}{metrics['support']:<10}\")\n",
        "    print(\"-----------------------------------------------------\")\n",
        "\n",
        "    plt.figure(figsize=(8, 6))\n",
        "    sns.heatmap(confusion_matrix(y_teste, y_pred), annot=True, fmt='d', cmap='Purples')\n",
        "    plt.xlabel('Predict')\n",
        "    plt.ylabel('True')\n",
        "    plt.title('Matriz de Confusão')\n",
        "    plt.show()\n"
      ],
      "metadata": {
        "id": "pi9SpbTnhl-_"
      },
      "execution_count": null,
      "outputs": []
    },
    {
      "cell_type": "markdown",
      "source": [
        "**Árvore CART**"
      ],
      "metadata": {
        "id": "Gp7b3KobYq6V"
      }
    },
    {
      "cell_type": "code",
      "source": [
        "from sklearn import tree\n",
        "\n",
        "tree = tree.DecisionTreeClassifier()\n",
        "y_pred = execute_test(tree, x_treinamento, y_treinamento, x_teste)\n",
        "show_test(y_pred)"
      ],
      "metadata": {
        "id": "7dpChVwxiuVx"
      },
      "execution_count": null,
      "outputs": []
    },
    {
      "cell_type": "markdown",
      "source": [
        "**SVM**"
      ],
      "metadata": {
        "id": "bmaUs2jak7Ky"
      }
    },
    {
      "cell_type": "markdown",
      "source": [
        "Pré-processamento específico SVM"
      ],
      "metadata": {
        "id": "JAst26Qpq7Qr"
      }
    },
    {
      "cell_type": "code",
      "source": [
        "x_testaux = x_teste\n",
        "x_treinaux = x_treinamento\n",
        "y_testaux = y_teste\n",
        "y_treinaux = y_treinamento"
      ],
      "metadata": {
        "id": "mdqKvDf_tzda"
      },
      "execution_count": null,
      "outputs": []
    },
    {
      "cell_type": "code",
      "source": [
        "from sklearn.svm import SVC\n",
        "from sklearn.preprocessing import StandardScaler\n",
        "\n",
        "svm_model = SVC()\n",
        "\n",
        "scaler = StandardScaler()\n",
        "x_treinamento = scaler.fit_transform(x_treinamento)\n",
        "\n",
        "svm_model.fit(x_treinamento, y_treinamento)\n",
        "\n",
        "x_teste = scaler.transform(x_teste)\n",
        "y_pred_svm = svm_model.predict(x_teste)"
      ],
      "metadata": {
        "id": "roQ9vkaoVlQg"
      },
      "execution_count": null,
      "outputs": []
    },
    {
      "cell_type": "code",
      "source": [
        "x_treinamento"
      ],
      "metadata": {
        "id": "ItlVnxMqrQ7B"
      },
      "execution_count": null,
      "outputs": []
    },
    {
      "cell_type": "code",
      "source": [
        "x_teste"
      ],
      "metadata": {
        "id": "Sld6vrJdYfIg"
      },
      "execution_count": null,
      "outputs": []
    },
    {
      "cell_type": "code",
      "source": [
        "y_pred_svm = execute_test(svm_model, X_treinamento=x_treinamento, y_treinamento=y_treinamento, X_teste=x_teste)\n",
        "show_test(y_pred_svm)"
      ],
      "metadata": {
        "id": "hAo_PptAxXOV"
      },
      "execution_count": null,
      "outputs": []
    },
    {
      "cell_type": "markdown",
      "source": [
        "**Alterando o valor do kernel**"
      ],
      "metadata": {
        "id": "4Cz8j5Dh2OPq"
      }
    },
    {
      "cell_type": "code",
      "source": [
        "x_treinamento, x_teste"
      ],
      "metadata": {
        "id": "Xxiib3ZY23uT"
      },
      "execution_count": null,
      "outputs": []
    },
    {
      "cell_type": "code",
      "source": [
        "svm_model = SVC(kernel='poly')\n",
        "\n",
        "y_pred_svm = execute_test(svm_model, X_treinamento=x_treinamento, y_treinamento=y_treinamento, X_teste=x_teste)\n",
        "show_test(y_pred_svm)"
      ],
      "metadata": {
        "id": "lKalMO2n2R42"
      },
      "execution_count": null,
      "outputs": []
    },
    {
      "cell_type": "markdown",
      "source": [
        "**KNN**"
      ],
      "metadata": {
        "id": "q2ONThvO4N-h"
      }
    },
    {
      "cell_type": "code",
      "source": [
        "x_treinamento, x_teste"
      ],
      "metadata": {
        "id": "WmVFcl7Q4wMd"
      },
      "execution_count": null,
      "outputs": []
    },
    {
      "cell_type": "markdown",
      "source": [
        "**Padrão scikit-learn 5**"
      ],
      "metadata": {
        "id": "4cNlGhs96Bco"
      }
    },
    {
      "cell_type": "code",
      "source": [
        "from sklearn.neighbors import KNeighborsClassifier\n",
        "\n",
        "knn_model = KNeighborsClassifier()\n",
        "y_pred_knn = execute_test(knn_model, X_treinamento=x_treinamento, y_treinamento=y_treinamento, X_teste=x_teste)\n",
        "show_test(y_pred_knn)"
      ],
      "metadata": {
        "id": "aVRjVdgJ4P7z"
      },
      "execution_count": null,
      "outputs": []
    },
    {
      "cell_type": "code",
      "source": [
        "from sklearn.neighbors import KNeighborsClassifier\n",
        "\n",
        "knn_model = KNeighborsClassifier(n_neighbors=1)\n",
        "y_pred_knn = execute_test(knn_model, X_treinamento=x_treinamento, X_teste=x_teste)\n",
        "show_test(y_pred_knn)"
      ],
      "metadata": {
        "id": "gmsRWcm78D6w"
      },
      "execution_count": null,
      "outputs": []
    },
    {
      "cell_type": "code",
      "source": [
        "from sklearn.neighbors import KNeighborsClassifier\n",
        "\n",
        "knn_model = KNeighborsClassifier(n_neighbors=14)\n",
        "y_pred_knn = execute_test(knn_model, X_treinamento=x_treinamento, X_teste=x_teste)\n",
        "show_test(y_pred_knn)"
      ],
      "metadata": {
        "id": "f7LzouVPtyOi"
      },
      "execution_count": null,
      "outputs": []
    },
    {
      "cell_type": "code",
      "source": [
        "knn_model = KNeighborsClassifier(metric = 'manhattan')\n",
        "y_pred_knn = execute_test(knn_model, X_treinamento=x_treinamento, X_teste=x_teste)\n",
        "show_test(y_pred_knn)"
      ],
      "metadata": {
        "id": "qrdpPjKHuIUs"
      },
      "execution_count": null,
      "outputs": []
    },
    {
      "cell_type": "code",
      "source": [
        "knn_model = KNeighborsClassifier(metric = 'chebyshev')\n",
        "y_pred_knn = execute_test(knn_model, X_treinamento=x_treinamento, X_teste=x_teste)\n",
        "show_test(y_pred_knn)"
      ],
      "metadata": {
        "id": "XRkBRgaOvfS9"
      },
      "execution_count": null,
      "outputs": []
    },
    {
      "cell_type": "markdown",
      "source": [
        "**Gaussian Naive Bayes**"
      ],
      "metadata": {
        "id": "42-sJMF_yaMs"
      }
    },
    {
      "cell_type": "code",
      "source": [
        "x_treinamento, x_teste"
      ],
      "metadata": {
        "id": "jxrh8w07EiiI"
      },
      "execution_count": null,
      "outputs": []
    },
    {
      "cell_type": "code",
      "source": [
        "from sklearn.naive_bayes import GaussianNB\n",
        "\n",
        "naive_bayes_model = GaussianNB()\n",
        "y_pred_gnb = execute_test(naive_bayes_model, X_treinamento=x_treinamento, X_teste=x_teste)\n",
        "show_test(y_pred_gnb)\n"
      ],
      "metadata": {
        "id": "dPMUuO06xGv_"
      },
      "execution_count": null,
      "outputs": []
    },
    {
      "cell_type": "markdown",
      "source": [
        "**Categorical Naive Bayes**"
      ],
      "metadata": {
        "id": "IxLAdaVfzNPA"
      }
    },
    {
      "cell_type": "code",
      "source": [
        "dados3.info()"
      ],
      "metadata": {
        "id": "kISWUVnSzG-D"
      },
      "execution_count": null,
      "outputs": []
    },
    {
      "cell_type": "code",
      "source": [
        "from sklearn.naive_bayes import CategoricalNB\n",
        "from sklearn.preprocessing import KBinsDiscretizer\n",
        "\n",
        "discretizer = KBinsDiscretizer(n_bins=10, encode='ordinal', strategy='uniform')\n",
        "x_treinamento_discretized = discretizer.fit_transform(x_treinaux)\n",
        "\n",
        "x_teste_discretized = discretizer.transform(x_testaux)\n",
        "\n",
        "categorical_nb_model = CategoricalNB()\n",
        "\n",
        "y_pred_categorical_nb = execute_test(categorical_nb_model, X_treinamento=x_treinamento_discretized, X_teste=x_teste_discretized)\n",
        "\n",
        "show_test(y_pred_categorical_nb, y_teste)\n"
      ],
      "metadata": {
        "id": "kekr_l1xj15J"
      },
      "execution_count": null,
      "outputs": []
    },
    {
      "cell_type": "code",
      "source": [
        "from sklearn.naive_bayes import CategoricalNB\n",
        "from sklearn.preprocessing import KBinsDiscretizer\n",
        "\n",
        "discretizer = KBinsDiscretizer(n_bins=5, encode='ordinal', strategy='uniform')\n",
        "x_treinamento_discretized = discretizer.fit_transform(x_treinaux)\n",
        "\n",
        "x_teste_discretized = discretizer.transform(x_testaux)\n",
        "\n",
        "categorical_nb_model = CategoricalNB()\n",
        "\n",
        "y_pred_categorical_nb = execute_test(categorical_nb_model, X_treinamento=x_treinamento_discretized, X_teste=x_teste_discretized)\n",
        "\n",
        "show_test(y_pred_categorical_nb, y_teste)"
      ],
      "metadata": {
        "id": "ILyOcSik1I5z"
      },
      "execution_count": null,
      "outputs": []
    },
    {
      "cell_type": "markdown",
      "source": [
        "**Perceptron**"
      ],
      "metadata": {
        "id": "2UFryp5R06vp"
      }
    },
    {
      "cell_type": "code",
      "source": [
        "from sklearn.linear_model import Perceptron\n",
        "\n",
        "perceptron_model = Perceptron()\n",
        "y_pred_percep = execute_test(perceptron_model, X_treinamento=x_treinamento, X_teste=x_teste)\n",
        "show_test(y_pred_percep)\n"
      ],
      "metadata": {
        "id": "S5Wvi4at0jby"
      },
      "execution_count": null,
      "outputs": []
    },
    {
      "cell_type": "markdown",
      "source": [
        "**Regressão Linear**"
      ],
      "metadata": {
        "id": "_fWBwYva6VcB"
      }
    },
    {
      "cell_type": "code",
      "source": [
        "dadosReg = pd.read_csv('/content/BostonHousing.csv')"
      ],
      "metadata": {
        "id": "sqe0y-oo8Oji"
      },
      "execution_count": null,
      "outputs": []
    },
    {
      "cell_type": "code",
      "source": [
        "dadosReg"
      ],
      "metadata": {
        "id": "OV1rmpMa8aaN"
      },
      "execution_count": null,
      "outputs": []
    },
    {
      "cell_type": "code",
      "source": [
        "from sklearn.ensemble import IsolationForest\n",
        "\n",
        "model = IsolationForest()\n",
        "model.fit(dadosReg)\n",
        "outliers = model.predict(dadosReg)\n",
        "dados_sem_outliers = dadosReg[outliers == 1]"
      ],
      "metadata": {
        "id": "dIEl2M5CAEqh"
      },
      "execution_count": null,
      "outputs": []
    },
    {
      "cell_type": "code",
      "source": [
        "dadosReg2 = dados_sem_outliers"
      ],
      "metadata": {
        "id": "Qd1FLjoAC_wa"
      },
      "execution_count": null,
      "outputs": []
    },
    {
      "cell_type": "code",
      "source": [
        "dadosReg2"
      ],
      "metadata": {
        "id": "LkyR0GMxigaV"
      },
      "execution_count": null,
      "outputs": []
    },
    {
      "cell_type": "code",
      "source": [
        "from sklearn.model_selection import train_test_split\n",
        "\n",
        "xReg = dadosReg2.drop(['medv'], axis=1)\n",
        "yReg = dadosReg2['medv']\n",
        "\n",
        "x_treinamenReg, x_testeReg, y_treinamenReg, y_testeReg = train_test_split(xReg, yReg, random_state=10, test_size=0.3)"
      ],
      "metadata": {
        "id": "pgkOm7GBikuh"
      },
      "execution_count": null,
      "outputs": []
    },
    {
      "cell_type": "code",
      "source": [
        "from sklearn.linear_model import LinearRegression\n",
        "from sklearn.metrics import mean_squared_error\n",
        "\n",
        "modelo_regressao = LinearRegression()\n",
        "\n",
        "modelo_regressao.fit(x_treinamenReg, y_treinamenReg)\n",
        "\n",
        "y_pred = modelo_regressao.predict(x_testeReg)\n",
        "\n",
        "erro_quadratico = mean_squared_error(y_testeReg, y_pred)\n",
        "print(f\"Erro Quadrático Médio: {erro_quadratico}\")"
      ],
      "metadata": {
        "id": "5Fa2Pj0gio-K"
      },
      "execution_count": null,
      "outputs": []
    }
  ]
}